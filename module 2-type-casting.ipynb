{
 "cells": [
  {
   "cell_type": "code",
   "execution_count": 2,
   "id": "fb309c4b",
   "metadata": {},
   "outputs": [
    {
     "name": "stdout",
     "output_type": "stream",
     "text": [
      "Height converter: enter your height in cm: 183\n",
      "Your height in feet is: 6.003937007874016\n"
     ]
    }
   ],
   "source": [
    "height_cm=input(\"Height converter: enter your height in cm: \")\n",
    "float_height_cm=float(height_cm)\n",
    "print('Your height in feet is:', float_height_cm/30.48)"
   ]
  },
  {
   "cell_type": "code",
   "execution_count": 4,
   "id": "74d3dca3",
   "metadata": {},
   "outputs": [
    {
     "name": "stdout",
     "output_type": "stream",
     "text": [
      "Height converter: enter your height in cm: 200\n",
      "Your height in feet is: 6.561679790026247\n"
     ]
    }
   ],
   "source": [
    "height_cm=float(input(\"Height converter: enter your height in cm: \"))\n",
    "print('Your height in feet is:', height_cm/30.48)"
   ]
  },
  {
   "cell_type": "code",
   "execution_count": 7,
   "id": "affd3910",
   "metadata": {},
   "outputs": [
    {
     "name": "stdout",
     "output_type": "stream",
     "text": [
      "What year were you born?1994\n",
      "In 2200, you will be 206 years old, if you live that long.\n"
     ]
    }
   ],
   "source": [
    "year_born=int(input(\"What year were you born?\"))\n",
    "print(\"In 2200, you will be\", 2200-year_born, \"years old, if you live that long.\")"
   ]
  },
  {
   "cell_type": "code",
   "execution_count": 21,
   "id": "1fc0695f",
   "metadata": {},
   "outputs": [
    {
     "name": "stdout",
     "output_type": "stream",
     "text": [
      "Enter the temperature in Celsius degrees: 35\n",
      "35 degrees Celsius equals 95.0 degrees Fahrenheit.\n"
     ]
    }
   ],
   "source": [
    "temp_c=input('Enter the temperature in Celsius degrees: ')\n",
    "temp_f=float(temp_c)*1.8+32\n",
    "temp_statement=str(temp_c)+' degrees Celsius equals '+str(temp_f)+\" degrees Fahrenheit.\"\n",
    "print(temp_statement)"
   ]
  },
  {
   "cell_type": "code",
   "execution_count": 4,
   "id": "0e1beff3",
   "metadata": {},
   "outputs": [
    {
     "name": "stdout",
     "output_type": "stream",
     "text": [
      "How many hours did you work last month? 190\n",
      "What is your hourly rate? 38\n",
      "Last month, you earned 7220.0 dollars\n"
     ]
    }
   ],
   "source": [
    "hours_worked=float(input(\"How many hours did you work last month? \"))\n",
    "Hourly_rate=float(input(\"What is your hourly rate? \"))\n",
    "earned=float(hours_worked)*(Hourly_rate)\n",
    "print(\"Last month, you earned\",earned,\"dollars\")"
   ]
  },
  {
   "cell_type": "code",
   "execution_count": null,
   "id": "0a2b2873",
   "metadata": {},
   "outputs": [],
   "source": []
  }
 ],
 "metadata": {
  "kernelspec": {
   "display_name": "Python 3 (ipykernel)",
   "language": "python",
   "name": "python3"
  },
  "language_info": {
   "codemirror_mode": {
    "name": "ipython",
    "version": 3
   },
   "file_extension": ".py",
   "mimetype": "text/x-python",
   "name": "python",
   "nbconvert_exporter": "python",
   "pygments_lexer": "ipython3",
   "version": "3.11.5"
  }
 },
 "nbformat": 4,
 "nbformat_minor": 5
}
